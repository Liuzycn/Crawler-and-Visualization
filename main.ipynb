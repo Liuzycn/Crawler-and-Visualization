{
 "cells": [
  {
   "cell_type": "code",
   "execution_count": 1,
   "id": "6a3dff5f",
   "metadata": {},
   "outputs": [
    {
     "data": {
      "text/plain": [
       "'\\n1.本程序爬取了两个b站关于2022年高考数学热门视频的弹幕，根据爬取出的信息绘制出长度大于4的高频词语的词云图。\\n2.然后选中出现频率top10的词语，画出双Y轴的条形图以及饼图，直观的展现出高考视频中弹幕高频出现的词语及其性质。\\n3.最后根据微信公众号上的2022高考数学视频，在获得了部分发送评论用户ip归属地的情况下，绘制出他们在中国的地区分布图。\\n'"
      ]
     },
     "execution_count": 1,
     "metadata": {},
     "output_type": "execute_result"
    }
   ],
   "source": [
    "'''\n",
    "1.本程序爬取了两个b站关于2022年高考数学热门视频的弹幕，根据爬取出的信息绘制出长度大于4的高频词语的词云图。\n",
    "2.然后选中出现频率top10的词语，画出双Y轴的条形图以及饼图，直观的展现出高考视频中弹幕高频出现的词语及其性质。\n",
    "3.最后根据微信公众号上的2022高考数学视频，在获得了部分发送评论用户ip归属地的情况下，绘制出他们在中国的地区分布图。\n",
    "'''"
   ]
  },
  {
   "cell_type": "code",
   "execution_count": 39,
   "id": "758dec61",
   "metadata": {},
   "outputs": [],
   "source": [
    "#此处为本程序所要引入的所有库\n",
    "import csv\n",
    "import requests\n",
    "import numpy as np\n",
    "import pandas as pd\n",
    "from bs4 import BeautifulSoup\n",
    "import jieba                         \n",
    "from pyecharts.charts import WordCloud\n",
    "import matplotlib\n",
    "import matplotlib.pyplot as plt\n",
    "from matplotlib.font_manager import FontProperties   \n",
    "font_title = FontProperties(fname=\"simhei.ttf\", size=18)   \n",
    "font_words = FontProperties(fname=\"simhei.ttf\", size=12)"
   ]
  },
  {
   "cell_type": "code",
   "execution_count": 40,
   "id": "502e321b",
   "metadata": {},
   "outputs": [],
   "source": [
    "#爬取弹幕\n",
    "'''\n",
    "从b站一个叫“谢谢您 2022新高考一卷数学 我是傻逼哈哈哈哈哈哈哈哈哈哈哈”\n",
    "还有“注定高考史留名的2022数学新一卷，用不一样的方式品！”的两个视频中爬取出它的弹幕\n",
    "'''\n",
    "#以下为数据获取\n",
    "cid=[740319037,742120946]\n",
    "y=1\n",
    "for x in cid:\n",
    "    url=f\"https://comment.bilibili.com/{x}.xml\"\n",
    "    response=requests.get(url)\n",
    "    response.encoding=response.apparent_encoding\n",
    "    tex=response.text\n",
    "    soup=BeautifulSoup(tex,'lxml')\n",
    "    if x==740319037:\n",
    "        content_all_1=soup.find_all(name='d')\n",
    "    else:\n",
    "        content_all_2=soup.find_all(name='d')"
   ]
  },
  {
   "cell_type": "code",
   "execution_count": 41,
   "id": "499f7d40",
   "metadata": {},
   "outputs": [
    {
     "data": {
      "text/plain": [
       "'C:\\\\Users\\\\LZY\\\\高考数学评论词汇出现频率排行.html'"
      ]
     },
     "execution_count": 41,
     "metadata": {},
     "output_type": "execute_result"
    }
   ],
   "source": [
    "#以下为数据处理\n",
    "#将爬取出的弹幕绘制成词云图，方便看出今年高考数学的关键词是什么\n",
    "w_list=[]\n",
    "for content in content_all_1:\n",
    "    content_new=content.string                \n",
    "    words=jieba.lcut(content_new)\n",
    "    for x in words:\n",
    "        w_list.append(x)\n",
    "for content in content_all_2:                   #从两个视频中爬取弹幕，然后用jieba库进行分词\n",
    "    content_new=content.string\n",
    "    words=jieba.lcut(content_new)\n",
    "    for x in words:\n",
    "        w_list.append(x)\n",
    "a_dict={}\n",
    "for w in w_list:\n",
    "    if len(w)>3:    #字数过短的词语“的”“了”没什么意义，经过观察后，发现长度大于3的词语更有价值，所以选用长度大于3的词语\n",
    "        if w not in a_dict.keys():\n",
    "            a_dict[w]=1\n",
    "        else:\n",
    "            a_dict[w]=a_dict[w]+1\n",
    "#以下为词云图的数据分析\n",
    "wd=WordCloud()\n",
    "wd.add(series_name=\"\",data_pair=a_dict.items(),width=800,height=500,word_size_range=[35,60])    #绘制词云图\n",
    "wd.render(\"高考数学评论词汇出现频率排行.html\")"
   ]
  },
  {
   "cell_type": "code",
   "execution_count": 42,
   "id": "4a23fb7e",
   "metadata": {},
   "outputs": [],
   "source": [
    "#数据处理\n",
    "paixu=sorted(a_dict.items(),key= lambda x:x[1],reverse=True)  #进行降序排列，便于后续操作\n",
    "b_dict={}\n",
    "ji=0\n",
    "for x,y in paixu:\n",
    "    if ji==10:\n",
    "        break\n",
    "    b_dict[x]=y               #只要发送数量前十多的词语\n",
    "    ji+=1\n",
    "#此处使用了numpy,为了提高生成列表的效率\n",
    "index=np.array([x for x in b_dict.keys()])\n",
    "number=np.array([x for x in b_dict.values()])\n",
    "thesum=np.sum(number)\n",
    "newlist=[]\n",
    "for x in number:\n",
    "    newlist.append(round(x/thesum,4))     #计算对应的词语在前十多的词语中出现的概率\n",
    "for key in index:\n",
    "    b_dict[key]=newlist.pop(0)            #绘制成词典"
   ]
  },
  {
   "cell_type": "code",
   "execution_count": 43,
   "id": "9baa115a",
   "metadata": {},
   "outputs": [],
   "source": [
    "#此处使用文件\n",
    "#将弹幕中数量超过1的词语写入csv文件中\n",
    "d_dict={}\n",
    "titles=[\"人数\",\"词语长度\"]\n",
    "for x,y in paixu:\n",
    "    if y==1:\n",
    "        break\n",
    "    d_dict[x]=y\n",
    "index_new=np.array([x for x in d_dict.keys()])\n",
    "people_number=np.array([x for x in d_dict.values()])\n",
    "word_lenth=np.array([len(str(x)) for x in d_dict.keys()])  \n",
    "p1=pd.Series(people_number,index=index_new)\n",
    "p2=pd.Series(word_lenth,index=index_new)\n",
    "df=pd.concat([p1,p2],axis=1)\n",
    "df.columns=titles\n",
    "#此处将该表格写入data.csv文件中，使用pandas写入csv文件比直接用字典更为方便简洁\n",
    "df.to_csv(\"data.csv\")"
   ]
  },
  {
   "cell_type": "code",
   "execution_count": 44,
   "id": "2ed7608e",
   "metadata": {},
   "outputs": [
    {
     "data": {
      "image/png": "[encoded data removed]",
      "text/plain": [
       "<Figure size 792x504 with 2 Axes>"
      ]
     },
     "metadata": {
      "needs_background": "light"
     },
     "output_type": "display_data"
    }
   ],
   "source": [
    "#以下为数据可视化，绘制一个双Y轴的关于弹幕中出现频率最高的十个词的数量及其比例\n",
    "index=list(index)\n",
    "number=list(number)\n",
    "percentage=list(b_dict.values())\n",
    "fig=plt.figure(figsize=(11,7))\n",
    "ax=fig.add_axes([0.1,0.3,0.8,0.6])\n",
    "\n",
    "width=0.35\n",
    "ticks=np.arange(len(index))\n",
    "ax.bar(ticks,number,width,label='number')\n",
    "ax2=ax.twinx()\n",
    "ax2.set_ylabel('percentage')\n",
    "ax2.plot(index,percentage,marker=\"o\",color=\"red\",label=\"percentage\")\n",
    "ax.set_ylabel('number')\n",
    "ax.set_title(\"2022年高考数学吐槽弹幕中频率最高的10个词的数量及所占比例\")#,FontProperties=font_title)\n",
    "ax.set_xticks(ticks+width/2)\n",
    "ax.set_xticklabels(index)#,FontProperties=font_words)\n",
    "ax.legend(loc='best')\n",
    "plt.show()"
   ]
  },
  {
   "cell_type": "code",
   "execution_count": 45,
   "id": "24ab9cff",
   "metadata": {},
   "outputs": [
    {
     "data": {
      "text/plain": [
       "<Figure size 432x288 with 0 Axes>"
      ]
     },
     "metadata": {},
     "output_type": "display_data"
    },
    {
     "data": {
      "image/png": "[encoded data removed]",
      "text/plain": [
       "<Figure size 432x288 with 1 Axes>"
      ]
     },
     "metadata": {},
     "output_type": "display_data"
    }
   ],
   "source": [
    "c_dict={'hahahaha':0.39,'doge':0.1467,'jinjinyouwei':0.1158,'litijihe':0.0618,'meihaoxinfu':0.0579,\"wucongxiashou\":0.0541,\n",
    "       'sanjiaohanshu':0.0502,\"yuxiandingli\":0.0463,\"shuxuelaoshi\":0.0386,\"sanfenzhiyi\":0.0386}\n",
    "plt.figure(figsize=(6,4))\n",
    "fig,ax=plt.subplots()\n",
    "data=np.array(list(b_dict.values())).astype(float)\n",
    "explode=[0.1,0,0,0,0,0,0,0,0,0]\n",
    "explode2=[0,0,0,0,0,0,0,0,0,0]\n",
    "ax.pie(data,labels=b_dict.keys(),autopct='%.1f%%',explode=explode)#,textprops={\"fontproperties\":font_words})\n",
    "ax.set_title(\"2022年高考数学吐槽弹幕中频率最高的10个词的比例(饼图)\")#,FontProperties=font_title)\n",
    "ax.axis(\"equal\")\n",
    "plt.show()"
   ]
  },
  {
   "cell_type": "code",
   "execution_count": 46,
   "id": "5c95827d",
   "metadata": {},
   "outputs": [
    {
     "data": {
      "image/png": "[encoded data removed]",
      "text/plain": [
       "<Figure size 432x288 with 1 Axes>"
      ]
     },
     "metadata": {
      "needs_background": "light"
     },
     "output_type": "display_data"
    }
   ],
   "source": [
    "#以下使用了pandas，能够在用更短代码的情况下画出图像\n",
    "index=[x for x in c_dict.keys()]\n",
    "df=pd.Series(number,index=index)\n",
    "df.plot(color='green',kind='bar')\n",
    "plt.show()"
   ]
  },
  {
   "cell_type": "code",
   "execution_count": 47,
   "id": "545e735d",
   "metadata": {},
   "outputs": [],
   "source": [
    "from pyecharts.charts import Map           \n",
    "from pyecharts import options as opts"
   ]
  },
  {
   "cell_type": "code",
   "execution_count": 48,
   "id": "dd13dc41",
   "metadata": {},
   "outputs": [
    {
     "data": {
      "text/plain": [
       "'C:\\\\Users\\\\LZY\\\\评论人数分布地图.html'"
      ]
     },
     "execution_count": 48,
     "metadata": {},
     "output_type": "execute_result"
    }
   ],
   "source": [
    "#由于b站未公开用户的ip地址，因此数据选用微信视频号上的一个2022高考数学视频的评论用户ip地址，然后进行绘图\n",
    "provinces=['甘肃','黑龙江','吉林','辽宁','内蒙古','新疆','西藏','青海','宁夏','山西','陕西','北京','河北','山东','河南','江苏',\n",
    "           '浙江','四川','云南','贵州','广东','广西','海南','湖南','湖北','福建','上海','江西','安徽','天津','重庆']\n",
    "values=[1.8,4.3,2.1,5.8,2.1,0.7,0.4,0,0.7,0.7,2.5,2.9,5.4,14.9,6.5,8.3,4.3,2.1,1.8,1.1,6.5,1.8,0,4.0,2.5,1.4,2.1,3.3,4.3,1.4,1.1]\n",
    "themap=(\n",
    "    Map()\n",
    "    .add(\"人数占比\",[list(x) for x in zip(provinces,values)],\"china\")\n",
    "    .set_series_opts(label_opts=opts.LabelOpts(is_show=False))\n",
    "    .set_global_opts(\n",
    "             title_opts=opts.TitleOpts(\n",
    "                     title=\"2022高考数学评论\",\n",
    "                     subtitle=\"人数占比（部分）\",\n",
    "                     pos_left=\"centre\"\n",
    "                                       ),\n",
    "             legend_opts=opts.LegendOpts(\n",
    "                     pos_right=\"right\",\n",
    "                     pos_bottom=\"Top\"\n",
    "                                         ),\n",
    "    visualmap_opts=opts.VisualMapOpts(max_=16)\n",
    "                    )   \n",
    "       )\n",
    "themap.render('评论人数分布地图.html')"
   ]
  },
  {
   "cell_type": "code",
   "execution_count": null,
   "id": "0cc01087",
   "metadata": {},
   "outputs": [],
   "source": []
  },
  {
   "cell_type": "code",
   "execution_count": null,
   "id": "0fa25bb5",
   "metadata": {},
   "outputs": [],
   "source": []
  },
  {
   "cell_type": "code",
   "execution_count": null,
   "id": "82814fbf",
   "metadata": {},
   "outputs": [],
   "source": []
  }
 ],
 "metadata": {
  "kernelspec": {
   "display_name": "Python 3 (ipykernel)",
   "language": "python",
   "name": "python3"
  },
  "language_info": {
   "codemirror_mode": {
    "name": "ipython",
    "version": 3
   },
   "file_extension": ".py",
   "mimetype": "text/x-python",
   "name": "python",
   "nbconvert_exporter": "python",
   "pygments_lexer": "ipython3",
   "version": "3.9.7"
  }
 },
 "nbformat": 4,
 "nbformat_minor": 5
}
